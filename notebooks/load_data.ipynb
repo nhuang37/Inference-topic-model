{
 "cells": [
  {
   "cell_type": "code",
   "execution_count": 1,
   "metadata": {},
   "outputs": [],
   "source": [
    "# Import dependencies\n",
    "import nltk\n",
    "import json\n",
    "import io\n",
    "import gzip\n",
    "import torch\n",
    "import string\n",
    "import random\n",
    "# import jsonlines\n",
    "import pandas as pd\n",
    "import pickle as pkl\n",
    "import numpy as np\n",
    "from tqdm import tqdm_notebook\n",
    "from functools import partial\n",
    "# import mwparserfromhell\n",
    "\n",
    "import torch\n",
    "import torch.nn as nn\n",
    "import torch.functional as F\n",
    "from torch.autograd import Variable\n",
    "from torch.utils.data import Dataset, RandomSampler, SequentialSampler, DataLoader\n",
    "from sklearn.preprocessing import MultiLabelBinarizer\n"
   ]
  },
  {
   "cell_type": "code",
   "execution_count": 2,
   "metadata": {},
   "outputs": [],
   "source": [
    "PATH_TO_DATA = \"/scratch/mz2476/wiki/data/aligned_datasets/\""
   ]
  },
  {
   "cell_type": "markdown",
   "metadata": {},
   "source": [
    "## Load data from pickle file.\n",
    "`outlinks` -- names of articles within Wikipedia or smth else that we are not interested in (can be image, graph, etc.). They are **case sensitive**.  \n",
    "`tokens` -- all lower-cased tokens, cleaned (punctuattions, special symbols removed), no stopwords.  \n",
    "`mid_level_categories` -- our labels. There are 45 unique categories. Use `MultiLabelBinarizer` from `sklearn` to binarize them (see the code below)."
   ]
  },
  {
   "cell_type": "code",
   "execution_count": 3,
   "metadata": {},
   "outputs": [
    {
     "data": {
      "text/html": [
       "<div>\n",
       "<style scoped>\n",
       "    .dataframe tbody tr th:only-of-type {\n",
       "        vertical-align: middle;\n",
       "    }\n",
       "\n",
       "    .dataframe tbody tr th {\n",
       "        vertical-align: top;\n",
       "    }\n",
       "\n",
       "    .dataframe thead th {\n",
       "        text-align: right;\n",
       "    }\n",
       "</style>\n",
       "<table border=\"1\" class=\"dataframe\">\n",
       "  <thead>\n",
       "    <tr style=\"text-align: right;\">\n",
       "      <th></th>\n",
       "      <th>QID</th>\n",
       "      <th>title</th>\n",
       "      <th>raw_outlinks</th>\n",
       "      <th>outlinks</th>\n",
       "      <th>raw_tokens</th>\n",
       "      <th>tokens</th>\n",
       "      <th>mid_level_categories</th>\n",
       "    </tr>\n",
       "  </thead>\n",
       "  <tbody>\n",
       "    <tr>\n",
       "      <td>0</td>\n",
       "      <td>Q6199</td>\n",
       "      <td>Anarchism</td>\n",
       "      <td>[[[Anti-authoritarianism|anti-authoritarian]],...</td>\n",
       "      <td>[Anti-authoritarianism, political philosophy, ...</td>\n",
       "      <td>[anarchism, is, an, anti, authoritarianism, an...</td>\n",
       "      <td>[anarchism, anti, authoritarianism, anti, auth...</td>\n",
       "      <td>[History_And_Society.History and society, Hist...</td>\n",
       "    </tr>\n",
       "    <tr>\n",
       "      <td>1</td>\n",
       "      <td>Q38404</td>\n",
       "      <td>Autism</td>\n",
       "      <td>[[[Psychiatry]], [[Interpersonal relationship|...</td>\n",
       "      <td>[Psychiatry, Interpersonal relationship, commu...</td>\n",
       "      <td>[autism, is, developmental, disorder, characte...</td>\n",
       "      <td>[autism, developmental, disorder, characterize...</td>\n",
       "      <td>[STEM.Medicine, STEM.Biology, History_And_Soci...</td>\n",
       "    </tr>\n",
       "    <tr>\n",
       "      <td>2</td>\n",
       "      <td>Q101038</td>\n",
       "      <td>Albedo</td>\n",
       "      <td>[[[File:Albedo-e hg.svg|thumb|upright=1.3|The ...</td>\n",
       "      <td>[File:Albedo-e hg.svg, diffuse reflection, sun...</td>\n",
       "      <td>[sunlight, relative, to, various, surface, con...</td>\n",
       "      <td>[sunlight, relative, various, surface, conditi...</td>\n",
       "      <td>[STEM.Physics, STEM.Space, History_And_Society...</td>\n",
       "    </tr>\n",
       "    <tr>\n",
       "      <td>3</td>\n",
       "      <td>Q173</td>\n",
       "      <td>Alabama</td>\n",
       "      <td>[[[Coat of arms of Alabama|Coat of arms]], [[N...</td>\n",
       "      <td>[Coat of arms of Alabama, Northern flicker, Di...</td>\n",
       "      <td>[alabama, alabama, is, nicknamed, the, norther...</td>\n",
       "      <td>[alabama, alabama, nicknamed, northern, flicke...</td>\n",
       "      <td>[Geography.Americas]</td>\n",
       "    </tr>\n",
       "    <tr>\n",
       "      <td>4</td>\n",
       "      <td>Q41746</td>\n",
       "      <td>Achilles</td>\n",
       "      <td>[[[File:Achilles fighting against Memnon Leide...</td>\n",
       "      <td>[File:Achilles fighting against Memnon Leiden ...</td>\n",
       "      <td>[dating, to,  , three, zero, zero, bc, of, ach...</td>\n",
       "      <td>[dating, three, zero, zero, achilles, killing,...</td>\n",
       "      <td>[Culture.People, Geography.Europe, History_And...</td>\n",
       "    </tr>\n",
       "  </tbody>\n",
       "</table>\n",
       "</div>"
      ],
      "text/plain": [
       "       QID      title                                       raw_outlinks  \\\n",
       "0    Q6199  Anarchism  [[[Anti-authoritarianism|anti-authoritarian]],...   \n",
       "1   Q38404     Autism  [[[Psychiatry]], [[Interpersonal relationship|...   \n",
       "2  Q101038     Albedo  [[[File:Albedo-e hg.svg|thumb|upright=1.3|The ...   \n",
       "3     Q173    Alabama  [[[Coat of arms of Alabama|Coat of arms]], [[N...   \n",
       "4   Q41746   Achilles  [[[File:Achilles fighting against Memnon Leide...   \n",
       "\n",
       "                                            outlinks  \\\n",
       "0  [Anti-authoritarianism, political philosophy, ...   \n",
       "1  [Psychiatry, Interpersonal relationship, commu...   \n",
       "2  [File:Albedo-e hg.svg, diffuse reflection, sun...   \n",
       "3  [Coat of arms of Alabama, Northern flicker, Di...   \n",
       "4  [File:Achilles fighting against Memnon Leiden ...   \n",
       "\n",
       "                                          raw_tokens  \\\n",
       "0  [anarchism, is, an, anti, authoritarianism, an...   \n",
       "1  [autism, is, developmental, disorder, characte...   \n",
       "2  [sunlight, relative, to, various, surface, con...   \n",
       "3  [alabama, alabama, is, nicknamed, the, norther...   \n",
       "4  [dating, to,  , three, zero, zero, bc, of, ach...   \n",
       "\n",
       "                                              tokens  \\\n",
       "0  [anarchism, anti, authoritarianism, anti, auth...   \n",
       "1  [autism, developmental, disorder, characterize...   \n",
       "2  [sunlight, relative, various, surface, conditi...   \n",
       "3  [alabama, alabama, nicknamed, northern, flicke...   \n",
       "4  [dating, three, zero, zero, achilles, killing,...   \n",
       "\n",
       "                                mid_level_categories  \n",
       "0  [History_And_Society.History and society, Hist...  \n",
       "1  [STEM.Medicine, STEM.Biology, History_And_Soci...  \n",
       "2  [STEM.Physics, STEM.Space, History_And_Society...  \n",
       "3                               [Geography.Americas]  \n",
       "4  [Culture.People, Geography.Europe, History_And...  "
      ]
     },
     "execution_count": 3,
     "metadata": {},
     "output_type": "execute_result"
    }
   ],
   "source": [
    "wiki_df = pkl.load(open(PATH_TO_DATA + \"en_outlinks_tokens_df.pkl\", \"rb\"))\n",
    "wiki_df.head()"
   ]
  },
  {
   "cell_type": "code",
   "execution_count": 9,
   "metadata": {},
   "outputs": [
    {
     "name": "stdout",
     "output_type": "stream",
     "text": [
      "Number of categories: 45, \n",
      "\n",
      "['Culture.Architecture' 'Culture.Arts' 'Culture.Broadcasting'\n",
      " 'Culture.Crafts and hobbies' 'Culture.Entertainment'\n",
      " 'Culture.Food and drink' 'Culture.Games and toys'\n",
      " 'Culture.Internet culture' 'Culture.Language and literature'\n",
      " 'Culture.Media' 'Culture.Music' 'Culture.People'\n",
      " 'Culture.Performing arts' 'Culture.Philosophy and religion'\n",
      " 'Culture.Sports' 'Culture.Visual arts' 'Geography.Africa'\n",
      " 'Geography.Americas' 'Geography.Antarctica' 'Geography.Asia'\n",
      " 'Geography.Bodies of water' 'Geography.Europe' 'Geography.Landforms'\n",
      " 'Geography.Maps' 'Geography.Oceania' 'Geography.Parks'\n",
      " 'History_And_Society.Business and economics'\n",
      " 'History_And_Society.Education' 'History_And_Society.History and society'\n",
      " 'History_And_Society.Military and warfare'\n",
      " 'History_And_Society.Politics and government'\n",
      " 'History_And_Society.Transportation' 'STEM.Biology' 'STEM.Chemistry'\n",
      " 'STEM.Engineering' 'STEM.Geosciences' 'STEM.Information science'\n",
      " 'STEM.Mathematics' 'STEM.Medicine' 'STEM.Meteorology' 'STEM.Physics'\n",
      " 'STEM.Science' 'STEM.Space' 'STEM.Technology' 'STEM.Time']\n"
     ]
    }
   ],
   "source": [
    "mlb = MultiLabelBinarizer()\n",
    "mlb.fit_transform(wiki_df.mid_level_categories)\n",
    "print(f\"Number of categories: {len(mlb.classes_)}, \\n\\n{mlb.classes_}\")"
   ]
  },
  {
   "cell_type": "code",
   "execution_count": null,
   "metadata": {},
   "outputs": [],
   "source": []
  }
 ],
 "metadata": {
  "kernelspec": {
   "display_name": "Python 3",
   "language": "python",
   "name": "python3"
  },
  "language_info": {
   "codemirror_mode": {
    "name": "ipython",
    "version": 3
   },
   "file_extension": ".py",
   "mimetype": "text/x-python",
   "name": "python",
   "nbconvert_exporter": "python",
   "pygments_lexer": "ipython3",
   "version": "3.7.4"
  }
 },
 "nbformat": 4,
 "nbformat_minor": 2
}
